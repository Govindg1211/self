{
 "cells": [
  {
   "cell_type": "code",
   "execution_count": null,
   "id": "06756672-ebb9-4c34-ba42-7500a088cbba",
   "metadata": {},
   "outputs": [],
   "source": []
  }
 ],
 "metadata": {
  "kernelspec": {
   "display_name": "",
   "name": ""
  },
  "language_info": {
   "name": ""
  }
 },
 "nbformat": 4,
 "nbformat_minor": 5
}
