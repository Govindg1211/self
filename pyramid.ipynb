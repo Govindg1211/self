{
 "cells": [
  {
   "cell_type": "code",
   "execution_count": 1,
   "id": "06756672-ebb9-4c34-ba42-7500a088cbba",
   "metadata": {},
   "outputs": [
    {
     "name": "stdout",
     "output_type": "stream",
     "text": [
      "    *\n",
      "   ***\n",
      "  *****\n",
      " *******\n",
      "*********\n"
     ]
    }
   ],
   "source": [
    "def print_pyramid(height):\n",
    "    for i in range(height):\n",
    "        # Print spaces for alignment\n",
    "        print(' ' * (height - i - 1), end='')\n",
    "        # Print stars\n",
    "        print('*' * (2 * i + 1))\n",
    "\n",
    "# Set the height of the pyramid\n",
    "height = 5\n",
    "print_pyramid(height)"
   ]
  },
  {
   "cell_type": "code",
   "execution_count": null,
   "id": "f28719f9-d52e-44ae-9885-1db0ae969597",
   "metadata": {},
   "outputs": [],
   "source": []
  }
 ],
 "metadata": {
  "kernelspec": {
   "display_name": "Python 3 (ipykernel)",
   "language": "python",
   "name": "python3"
  },
  "language_info": {
   "codemirror_mode": {
    "name": "ipython",
    "version": 3
   },
   "file_extension": ".py",
   "mimetype": "text/x-python",
   "name": "python",
   "nbconvert_exporter": "python",
   "pygments_lexer": "ipython3",
   "version": "3.10.7"
  }
 },
 "nbformat": 4,
 "nbformat_minor": 5
}
