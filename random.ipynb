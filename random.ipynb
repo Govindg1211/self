{
 "cells": [
  {
   "cell_type": "code",
   "execution_count": 1,
   "id": "d372560b-1c38-4604-816c-3dfbd522038f",
   "metadata": {},
   "outputs": [],
   "source": [
    "import pandas as pd"
   ]
  },
  {
   "cell_type": "code",
   "execution_count": 2,
   "id": "30001072-04d5-48df-b776-fe1ffdf8d6b0",
   "metadata": {},
   "outputs": [],
   "source": [
    "import numpy as np"
   ]
  },
  {
   "cell_type": "code",
   "execution_count": 4,
   "id": "c7331950-38b4-4c04-b7f3-0acf63ad63a7",
   "metadata": {},
   "outputs": [],
   "source": [
    "from matplotlib import pyplot as plt"
   ]
  },
  {
   "cell_type": "code",
   "execution_count": 6,
   "id": "39ad4d9f-3a52-4f39-8147-9ca898b65a13",
   "metadata": {},
   "outputs": [
    {
     "name": "stdout",
     "output_type": "stream",
     "text": [
      "      Name  Age  Salary\n",
      "0   Govind   22   30000\n",
      "1    Varun   21   20000\n",
      "2   Dhwani   21   16000\n",
      "3  vibhuti   21   20000\n"
     ]
    }
   ],
   "source": [
    "data = {\"Name\": [\"Govind\", \"Varun\", \"Dhwani\", \"vibhuti\"],\n",
    "       \"Age\": [22,21,21,21],\n",
    "       \"Salary\": [30000, 20000, 16000,20000]}\n",
    "df = pd.DataFrame(data)\n",
    "print(df)"
   ]
  },
  {
   "cell_type": "code",
   "execution_count": null,
   "id": "93a6697e-ed9b-4cb2-b861-f333262cfdc5",
   "metadata": {},
   "outputs": [],
   "source": []
  }
 ],
 "metadata": {
  "kernelspec": {
   "display_name": "Python 3 (ipykernel)",
   "language": "python",
   "name": "python3"
  },
  "language_info": {
   "codemirror_mode": {
    "name": "ipython",
    "version": 3
   },
   "file_extension": ".py",
   "mimetype": "text/x-python",
   "name": "python",
   "nbconvert_exporter": "python",
   "pygments_lexer": "ipython3",
   "version": "3.10.7"
  }
 },
 "nbformat": 4,
 "nbformat_minor": 5
}
