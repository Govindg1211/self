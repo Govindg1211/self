{
 "cells": [
  {
   "cell_type": "code",
   "execution_count": 2,
   "id": "3fc0d0b2-e3c4-4f2d-8d56-51b8fe8115c2",
   "metadata": {},
   "outputs": [
    {
     "name": "stdin",
     "output_type": "stream",
     "text": [
      "Enter a number:  175\n"
     ]
    },
    {
     "name": "stdout",
     "output_type": "stream",
     "text": [
      "175 is a super number!\n"
     ]
    }
   ],
   "source": [
    "def is_super_number(n):\n",
    "    # Convert the number to a string to access each digit by position\n",
    "    digits = list(map(int, str(n)))\n",
    "    \n",
    "    # Calculate the sum of digits raised to their position (1-indexed)\n",
    "    super_sum = sum(digit ** (i + 1) for i, digit in enumerate(digits))\n",
    "    \n",
    "    # Return True if the sum equals the original number\n",
    "    return super_sum == n\n",
    "\n",
    "# Input from user\n",
    "user_input = int(input(\"Enter a number: \"))\n",
    "\n",
    "# Check if the number is a super number\n",
    "if is_super_number(user_input):\n",
    "    print(f\"{user_input} is a super number!\")\n",
    "else:\n",
    "    print(f\"{user_input} is not a super number.\")"
   ]
  },
  {
   "cell_type": "code",
   "execution_count": null,
   "id": "38969a0e-f558-4cdd-84eb-ee3b5ebbabd7",
   "metadata": {},
   "outputs": [],
   "source": []
  }
 ],
 "metadata": {
  "kernelspec": {
   "display_name": "Python 3 (ipykernel)",
   "language": "python",
   "name": "python3"
  },
  "language_info": {
   "codemirror_mode": {
    "name": "ipython",
    "version": 3
   },
   "file_extension": ".py",
   "mimetype": "text/x-python",
   "name": "python",
   "nbconvert_exporter": "python",
   "pygments_lexer": "ipython3",
   "version": "3.10.7"
  }
 },
 "nbformat": 4,
 "nbformat_minor": 5
}
