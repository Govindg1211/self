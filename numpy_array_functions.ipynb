{
 "cells": [
  {
   "cell_type": "code",
   "execution_count": 1,
   "id": "cf0a18b7-8cff-439e-89d7-9ddee17141cf",
   "metadata": {},
   "outputs": [
    {
     "name": "stdout",
     "output_type": "stream",
     "text": [
      "60\n",
      "(3, 4)\n",
      "12\n"
     ]
    }
   ],
   "source": [
    "import numpy as np\n",
    "\n",
    "arr = np.array([[10,20,30,40],[50,60,70,80],[20,40,60,80]])\n",
    "print (arr[2,2])\n",
    "print(np.shape(arr))\n",
    "print(np.size(arr))"
   ]
  },
  {
   "cell_type": "code",
   "execution_count": 7,
   "id": "bda006ba-c088-4d58-8ee3-6930ab12ac6e",
   "metadata": {},
   "outputs": [
    {
     "name": "stdout",
     "output_type": "stream",
     "text": [
      "[ 40  70 110 100  80]\n",
      "[ 40  70 110 100  80]\n"
     ]
    }
   ],
   "source": [
    "arr1 = np.array([30,40,60,80,20])\n",
    "arr2 = np.array([10,30,50,20,60])\n",
    "print(arr1+arr2)\n",
    "print(np.add(arr1,arr2))\n"
   ]
  },
  {
   "cell_type": "code",
   "execution_count": 9,
   "id": "7f7d3518-87ec-4328-a70d-53c44ef13449",
   "metadata": {},
   "outputs": [
    {
     "name": "stdout",
     "output_type": "stream",
     "text": [
      "[[ 40  70]\n",
      " [100  80]]\n",
      "[[ 40  70]\n",
      " [100  80]]\n"
     ]
    }
   ],
   "source": [
    "arr1 = np.array([[30,40],[80,20]])\n",
    "arr2 = np.array([[10,30],[20,60]])\n",
    "print(arr1+arr2)\n",
    "print(np.add(arr1,arr2))\n"
   ]
  },
  {
   "cell_type": "code",
   "execution_count": 12,
   "id": "2a703f4e-3cbe-4174-80cb-f32a0ef8104e",
   "metadata": {},
   "outputs": [
    {
     "name": "stdout",
     "output_type": "stream",
     "text": [
      "[[ 20  10]\n",
      " [ 60 -40]]\n",
      "[[ 20  10]\n",
      " [ 60 -40]]\n"
     ]
    }
   ],
   "source": [
    "arr1 = np.array([[30,40],[80,20]])\n",
    "arr2 = np.array([[10,30],[20,60]])\n",
    "print(arr1-arr2)\n",
    "print(np.subtract(arr1,arr2))\n"
   ]
  },
  {
   "cell_type": "code",
   "execution_count": 13,
   "id": "d475f5d8-658e-41c8-bb80-dde190bd02bd",
   "metadata": {},
   "outputs": [
    {
     "name": "stdout",
     "output_type": "stream",
     "text": [
      "[[ 300 1200]\n",
      " [1600 1200]]\n",
      "[[ 300 1200]\n",
      " [1600 1200]]\n"
     ]
    }
   ],
   "source": [
    "arr1 = np.array([[30,40],[80,20]])\n",
    "arr2 = np.array([[10,30],[20,60]])\n",
    "print(arr1*arr2)\n",
    "print(np.multiply(arr1,arr2))\n"
   ]
  },
  {
   "cell_type": "code",
   "execution_count": 14,
   "id": "4cd59fb1-2892-4d7e-86a1-f8ff82696e70",
   "metadata": {},
   "outputs": [
    {
     "name": "stdout",
     "output_type": "stream",
     "text": [
      "[[3.         1.33333333]\n",
      " [4.         0.33333333]]\n",
      "[[3.         1.33333333]\n",
      " [4.         0.33333333]]\n"
     ]
    }
   ],
   "source": [
    "arr1 = np.array([[30,40],[80,20]])\n",
    "arr2 = np.array([[10,30],[20,60]])\n",
    "print(arr1/arr2)\n",
    "print(np.divide(arr1,arr2))\n"
   ]
  },
  {
   "cell_type": "code",
   "execution_count": 15,
   "id": "d1ab7371-88f1-427e-98de-36e77638f1ea",
   "metadata": {},
   "outputs": [
    {
     "name": "stdout",
     "output_type": "stream",
     "text": [
      "[ 900 1600 6400  400]\n"
     ]
    }
   ],
   "source": [
    "arr1 = np.array([30,40,80,20])\n",
    "arr2 = np.array([2])\n",
    "print(np.power(arr1,arr2))\n"
   ]
  },
  {
   "cell_type": "code",
   "execution_count": 17,
   "id": "82c36e99-7a9d-4f9d-8b2c-ec95bff9d7d5",
   "metadata": {},
   "outputs": [
    {
     "name": "stdout",
     "output_type": "stream",
     "text": [
      "[30. 40. 80. 20.]\n"
     ]
    }
   ],
   "source": [
    "arr1 = np.array([900, 1600, 6400, 400])\n",
    "print(np.sqrt(arr1))"
   ]
  },
  {
   "cell_type": "code",
   "execution_count": 4,
   "id": "f322df0e-121d-48c3-8e85-a7dcb0b40bd9",
   "metadata": {},
   "outputs": [
    {
     "name": "stdout",
     "output_type": "stream",
     "text": [
      "[30, 20, 10, 10, 20, 30]\n",
      "[30 20 10 10 20 30]\n"
     ]
    }
   ],
   "source": [
    "arr1 = ([30,20,10])\n",
    "arr2 = ([10,20,30])\n",
    "print(arr1+arr2)\n",
    "print(np.concatenate([arr1,arr2]))"
   ]
  },
  {
   "cell_type": "code",
   "execution_count": 5,
   "id": "f1c42b9e-ce0a-4c6a-a3a0-dc4d187f263a",
   "metadata": {},
   "outputs": [
    {
     "name": "stdout",
     "output_type": "stream",
     "text": [
      "[30 20 10 10 20 30]\n",
      "[[30 20 10]\n",
      " [10 20 30]]\n"
     ]
    }
   ],
   "source": [
    "print(np.hstack([arr1,arr2]))  # horizontal concatenation\n",
    "print(np.vstack([arr1,arr2]))  # vertical concatenation"
   ]
  },
  {
   "cell_type": "code",
   "execution_count": 6,
   "id": "10cc3289-3493-4117-8810-6f48e873ef4a",
   "metadata": {},
   "outputs": [
    {
     "name": "stdout",
     "output_type": "stream",
     "text": [
      "[[1 2 3 1 2 3]\n",
      " [4 5 6 4 5 6]]\n",
      "[[1 2 3]\n",
      " [4 5 6]\n",
      " [1 2 3]\n",
      " [4 5 6]]\n"
     ]
    }
   ],
   "source": [
    "arr1 = ([[1,2,3],[4,5,6]])\n",
    "arr2 = ([[1,2,3],[4,5,6]])\n",
    "\n",
    "print(np.hstack([arr1,arr2]))\n",
    "print(np.vstack([arr1,arr2]))"
   ]
  },
  {
   "cell_type": "code",
   "execution_count": 10,
   "id": "270b1426-9b9c-49ed-bc87-91ead5b7e1a7",
   "metadata": {},
   "outputs": [
    {
     "name": "stdout",
     "output_type": "stream",
     "text": [
      "[12 23 34 45 56 67]\n",
      "[12 23 34 78 45]\n",
      "[12 23 45]\n"
     ]
    }
   ],
   "source": [
    "a = np.array([12,23,34,45])\n",
    "print(np.append(a,[56,67]))\n",
    "print(np.insert(a,3,78))  #array,index,value\n",
    "print(np.delete(a,2))"
   ]
  },
  {
   "cell_type": "code",
   "execution_count": 11,
   "id": "3aad3232-c105-4d1e-acf9-551b05c85658",
   "metadata": {},
   "outputs": [
    {
     "name": "stdout",
     "output_type": "stream",
     "text": [
      "[  3  12  54  65  97 154 999]\n"
     ]
    }
   ],
   "source": [
    "arr = (54,3,97,12,999,65,154)\n",
    "print(np.sort(arr))"
   ]
  },
  {
   "cell_type": "code",
   "execution_count": 20,
   "id": "e4a9922f-84c8-4bcb-9659-c93bb6d14c1f",
   "metadata": {},
   "outputs": [
    {
     "name": "stdout",
     "output_type": "stream",
     "text": [
      "328.57142857142856\n",
      "300.0\n",
      "200\n",
      "166.5986255670086\n",
      "27755.10204081633\n"
     ]
    }
   ],
   "source": [
    "import statistics as sts\n",
    "arr1 = ([100,200,300,400,500,600,200])\n",
    "\n",
    "print(np.mean(arr1))\n",
    "print(np.median(arr1))\n",
    "print(sts.mode(arr1))\n",
    "print(np.std(arr1))\n",
    "print(np.var(arr1))"
   ]
  },
  {
   "cell_type": "code",
   "execution_count": 24,
   "id": "9727276c-1a90-45ab-802a-d37d901e94d8",
   "metadata": {},
   "outputs": [
    {
     "name": "stdout",
     "output_type": "stream",
     "text": [
      "[[1.         0.98994949]\n",
      " [0.98994949 1.        ]]\n"
     ]
    }
   ],
   "source": [
    "# -1 represents inversely proportional relationship\n",
    "# 1 represents a proportional relationship\n",
    "# 0 represents no relationship\n",
    "prices = ([100,200,300,400,500])\n",
    "sales = ([12,14,15,16,18])\n",
    "\n",
    "print(np.corrcoef([prices,sales]))"
   ]
  },
  {
   "cell_type": "code",
   "execution_count": null,
   "id": "98e5955a-5b58-4aac-a807-a7e8d6ea82e4",
   "metadata": {},
   "outputs": [],
   "source": []
  }
 ],
 "metadata": {
  "kernelspec": {
   "display_name": "Python 3 (ipykernel)",
   "language": "python",
   "name": "python3"
  },
  "language_info": {
   "codemirror_mode": {
    "name": "ipython",
    "version": 3
   },
   "file_extension": ".py",
   "mimetype": "text/x-python",
   "name": "python",
   "nbconvert_exporter": "python",
   "pygments_lexer": "ipython3",
   "version": "3.10.7"
  }
 },
 "nbformat": 4,
 "nbformat_minor": 5
}
