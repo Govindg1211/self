{
 "cells": [
  {
   "cell_type": "code",
   "execution_count": 1,
   "id": "52a1f5e7-1466-4358-8065-0f1860039ad3",
   "metadata": {},
   "outputs": [
    {
     "name": "stdout",
     "output_type": "stream",
     "text": [
      "     Name  Age  Salary\n",
      "0  Govind   22   30000\n",
      "1   Varun   21   20000\n",
      "2  Dhwani   21   16000\n"
     ]
    }
   ],
   "source": [
    "import pandas as pd\n",
    "\n",
    "data = {\"Name\": [\"Govind\", \"Varun\", \"Dhwani\"],\n",
    "       \"Age\": [22,21,21],\n",
    "       \"Salary\": [30000, 20000, 16000]}\n",
    "df = pd.DataFrame(data)\n",
    "print(df)"
   ]
  },
  {
   "cell_type": "code",
   "execution_count": 2,
   "id": "87f36a0c-bc2e-4fe6-ae88-a2cc50f0ada3",
   "metadata": {},
   "outputs": [
    {
     "name": "stdout",
     "output_type": "stream",
     "text": [
      "               hotel  is_canceled  arrival_date_year arrival_date_month  \\\n",
      "0       Resort Hotel            0               2015               July   \n",
      "1       Resort Hotel            0               2015               July   \n",
      "2       Resort Hotel            0               2015               July   \n",
      "3       Resort Hotel            0               2015               July   \n",
      "4       Resort Hotel            0               2015               July   \n",
      "...              ...          ...                ...                ...   \n",
      "119385    City Hotel            0               2017             August   \n",
      "119386    City Hotel            0               2017             August   \n",
      "119387    City Hotel            0               2017             August   \n",
      "119388    City Hotel            0               2017             August   \n",
      "119389    City Hotel            0               2017             August   \n",
      "\n",
      "        adults  children  babies country reserved_room_type  \\\n",
      "0            2       0.0       0     PRT                  C   \n",
      "1            2       0.0       0     PRT                  C   \n",
      "2            1       0.0       0     GBR                  A   \n",
      "3            1       0.0       0     GBR                  A   \n",
      "4            2       0.0       0     GBR                  A   \n",
      "...        ...       ...     ...     ...                ...   \n",
      "119385       2       0.0       0     BEL                  A   \n",
      "119386       3       0.0       0     FRA                  E   \n",
      "119387       2       0.0       0     DEU                  D   \n",
      "119388       2       0.0       0     GBR                  A   \n",
      "119389       2       0.0       0     DEU                  A   \n",
      "\n",
      "       assigned_room_type reservation_status reservation_status_date  \\\n",
      "0                       C          Check-Out           7/1/2015 0:00   \n",
      "1                       C          Check-Out           7/1/2015 0:00   \n",
      "2                       C          Check-Out           7/2/2015 0:00   \n",
      "3                       A          Check-Out           7/2/2015 0:00   \n",
      "4                       A          Check-Out           7/3/2015 0:00   \n",
      "...                   ...                ...                     ...   \n",
      "119385                  A          Check-Out           9/6/2017 0:00   \n",
      "119386                  E          Check-Out           9/7/2017 0:00   \n",
      "119387                  D          Check-Out           9/7/2017 0:00   \n",
      "119388                  A          Check-Out           9/7/2017 0:00   \n",
      "119389                  A          Check-Out           9/7/2017 0:00   \n",
      "\n",
      "        room_status  \n",
      "0               NaN  \n",
      "1               NaN  \n",
      "2               NaN  \n",
      "3               NaN  \n",
      "4               NaN  \n",
      "...             ...  \n",
      "119385          NaN  \n",
      "119386          NaN  \n",
      "119387          NaN  \n",
      "119388          NaN  \n",
      "119389          NaN  \n",
      "\n",
      "[119390 rows x 13 columns]\n"
     ]
    }
   ],
   "source": [
    "data = pd.read_csv(\"C:/Users/hp/OneDrive - SRI GURU TEGH BAHADUR INSTITUTE OF MANAGEMENT AND INFORMATION TECHNOLOGY/Desktop/Book1 - Copy.csv\")\n",
    "print(data)"
   ]
  },
  {
   "cell_type": "code",
   "execution_count": 3,
   "id": "6cf0916b-195f-488a-b6b6-70e6303f0c74",
   "metadata": {},
   "outputs": [
    {
     "name": "stdout",
     "output_type": "stream",
     "text": [
      "    Observation  Dist_Taxi  Dist_Market  Dist_Metro  Store_Area  \\\n",
      "0             1     9796.0       5250.0     10703.0      1659.0   \n",
      "1             2     8294.0       8186.0     12694.0      1461.0   \n",
      "2             3    11001.0      14399.0     16991.0      1340.0   \n",
      "3             4     8301.0      11188.0     12289.0      1451.0   \n",
      "4             5    10510.0      12629.0     13921.0      1770.0   \n",
      "5             6     6665.0       5142.0      9972.0      1442.0   \n",
      "6             7    13153.0      11869.0     17811.0      1542.0   \n",
      "7             8     5882.0       9948.0     13315.0      1261.0   \n",
      "8             9     7495.0      11589.0     13370.0      1090.0   \n",
      "9            10     8233.0       7067.0     11400.0      1030.0   \n",
      "10           11     4278.0      10646.0      8243.0      1187.0   \n",
      "11           12     8066.0      11149.0     12936.0      1751.0   \n",
      "12           13     7693.0       9130.0     14684.0      1746.0   \n",
      "13           14     5236.0      10853.0     13054.0      1615.0   \n",
      "14           15     6027.0       6707.0     10176.0      1469.0   \n",
      "15           16     9648.0      14789.0     12812.0      1644.0   \n",
      "16           17    11079.0      13102.0     13076.0      1578.0   \n",
      "17           18     6698.0      11519.0     13441.0      1703.0   \n",
      "18           19     9609.0       9066.0     13304.0      1438.0   \n",
      "19           20     6209.0       7839.0     10660.0      1837.0   \n",
      "\n",
      "    Items_Available       Parking Coupon_Category  Daily_Customer_Count  \\\n",
      "0            1961.0          Open           CAT B                   530   \n",
      "1            1752.0  Not Provided           CAT B                     0   \n",
      "2            1609.0  Not Provided           CAT A                     0   \n",
      "3            1748.0       Covered           CAT B                     0   \n",
      "4            2111.0  Not Provided           CAT B                     0   \n",
      "5            1733.0          Open           CAT B                     0   \n",
      "6            1858.0    No Parking           CAT A                     0   \n",
      "7            1507.0          Open           CAT C                  1020   \n",
      "8            1321.0  Not Provided           CAT B                   680   \n",
      "9               NaN          Open           CAT C                  1130   \n",
      "10           1439.0       Covered           CAT A                  1090   \n",
      "11           2098.0    No Parking           CAT B                   720   \n",
      "12           2064.0          Open           CAT B                  1050   \n",
      "13           1931.0       Covered           CAT B                  1160   \n",
      "14           1756.0          Open           CAT B                   770   \n",
      "15           1950.0       Covered           CAT A                   790   \n",
      "16           1907.0          Open           CAT A                  1440   \n",
      "17           2045.0       Covered           CAT B                   670   \n",
      "18           1731.0          Open           CAT A                  1030   \n",
      "19              NaN          Open           CAT B                   790   \n",
      "\n",
      "    Store_Sales  \n",
      "0       66490.0  \n",
      "1       39820.0  \n",
      "2       54010.0  \n",
      "3       53730.0  \n",
      "4       46620.0  \n",
      "5       45260.0  \n",
      "6       72240.0  \n",
      "7       37720.0  \n",
      "8       46310.0  \n",
      "9       44150.0  \n",
      "10          NaN  \n",
      "11      57620.0  \n",
      "12      60470.0  \n",
      "13      59130.0  \n",
      "14          NaN  \n",
      "15      78870.0  \n",
      "16      77250.0  \n",
      "17      38170.0  \n",
      "18      63540.0  \n",
      "19      49220.0  \n",
      "     Observation  Dist_Taxi  Dist_Market  Dist_Metro  Store_Area  \\\n",
      "912          913     7550.0      12641.0     14060.0      1771.0   \n",
      "913          914     8979.0      10075.0     13734.0      1205.0   \n",
      "914          915     9652.0       9102.0     12608.0      1792.0   \n",
      "915          916        NaN          NaN     13077.0      1581.0   \n",
      "916          917     8929.0      12396.0     12930.0      1263.0   \n",
      "917          918     9866.0      11461.0     15834.0      1344.0   \n",
      "918          919    10022.0      12911.0     16307.0      1819.0   \n",
      "919          920     6741.0      11479.0     11152.0      1357.0   \n",
      "920          921    10840.0      11137.0     15466.0      1396.0   \n",
      "921          922     9205.0      10418.0     14496.0      1118.0   \n",
      "922          923     9538.0      11551.0     12839.0      1655.0   \n",
      "923          924    11786.0      13969.0     15519.0      1156.0   \n",
      "924          925     9615.0       7904.0     12521.0      1451.0   \n",
      "925          926     7176.0       5779.0     12382.0      1539.0   \n",
      "926          927    10915.0      17486.0     15964.0      1549.0   \n",
      "927          928    12176.0       8518.0     15673.0      1582.0   \n",
      "928          929     7214.0       8717.0     10553.0      1387.0   \n",
      "929          930     7423.0      11708.0     13220.0      1200.0   \n",
      "930          931    15082.0      14700.0     19617.0      1299.0   \n",
      "931          932     9297.0      12537.0     14418.0      1174.0   \n",
      "\n",
      "     Items_Available       Parking Coupon_Category  Daily_Customer_Count  \\\n",
      "912           2138.0  Not Provided           CAT B                   820   \n",
      "913           1468.0          Open           CAT B                  1210   \n",
      "914           2131.0    No Parking           CAT A                   810   \n",
      "915           1889.0          Open           CAT C                   970   \n",
      "916           1516.0       Covered           CAT A                   780   \n",
      "917           1605.0    No Parking           CAT A                  1160   \n",
      "918           2187.0  Not Provided           CAT B                   590   \n",
      "919           1625.0          Open           CAT A                  1140   \n",
      "920           1673.0          Open           CAT C                   690   \n",
      "921           1337.0          Open           CAT A                   560   \n",
      "922           1986.0       Covered           CAT B                  1150   \n",
      "923           1398.0          Open           CAT A                   140   \n",
      "924           1734.0          Open           CAT C                   670   \n",
      "925           1829.0          Open           CAT B                   650   \n",
      "926           1851.0  Not Provided           CAT C                  1220   \n",
      "927           1910.0       Covered           CAT C                  1080   \n",
      "928           1663.0          Open           CAT A                   850   \n",
      "929           1436.0          Open           CAT A                  1060   \n",
      "930           1560.0          Open           CAT B                   770   \n",
      "931           1429.0       Covered           CAT C                  1110   \n",
      "\n",
      "     Store_Sales  \n",
      "912      57820.0  \n",
      "913      61210.0  \n",
      "914      76420.0  \n",
      "915      60290.0  \n",
      "916      70980.0  \n",
      "917      76740.0  \n",
      "918      47920.0  \n",
      "919      52160.0  \n",
      "920      32740.0  \n",
      "921      72270.0  \n",
      "922      77430.0  \n",
      "923      92370.0  \n",
      "924      34880.0  \n",
      "925      46580.0  \n",
      "926      70620.0  \n",
      "927      66390.0  \n",
      "928      82080.0  \n",
      "929      76440.0  \n",
      "930      96610.0  \n",
      "931      54340.0  \n"
     ]
    }
   ],
   "source": [
    "data = pd.read_csv(\"sales.csv\")\n",
    "#print(data)\n",
    "print(data.head(20))\n",
    "print(data.tail(20))"
   ]
  },
  {
   "cell_type": "code",
   "execution_count": 4,
   "id": "fbe664db-0abb-4ee7-8ba5-f809ca9085bf",
   "metadata": {},
   "outputs": [
    {
     "name": "stdout",
     "output_type": "stream",
     "text": [
      "<class 'pandas.core.frame.DataFrame'>\n",
      "RangeIndex: 932 entries, 0 to 931\n",
      "Data columns (total 10 columns):\n",
      " #   Column                Non-Null Count  Dtype  \n",
      "---  ------                --------------  -----  \n",
      " 0   Observation           932 non-null    int64  \n",
      " 1   Dist_Taxi             919 non-null    float64\n",
      " 2   Dist_Market           919 non-null    float64\n",
      " 3   Dist_Metro            931 non-null    float64\n",
      " 4   Store_Area            924 non-null    float64\n",
      " 5   Items_Available       916 non-null    float64\n",
      " 6   Parking               932 non-null    object \n",
      " 7   Coupon_Category       932 non-null    object \n",
      " 8   Daily_Customer_Count  932 non-null    int64  \n",
      " 9   Store_Sales           930 non-null    float64\n",
      "dtypes: float64(6), int64(2), object(2)\n",
      "memory usage: 72.9+ KB\n",
      "None\n"
     ]
    }
   ],
   "source": [
    "print(data.info())"
   ]
  },
  {
   "cell_type": "code",
   "execution_count": 5,
   "id": "0f232662-19b9-421a-a957-3132cc223665",
   "metadata": {},
   "outputs": [
    {
     "data": {
      "text/html": [
       "<div>\n",
       "<style scoped>\n",
       "    .dataframe tbody tr th:only-of-type {\n",
       "        vertical-align: middle;\n",
       "    }\n",
       "\n",
       "    .dataframe tbody tr th {\n",
       "        vertical-align: top;\n",
       "    }\n",
       "\n",
       "    .dataframe thead th {\n",
       "        text-align: right;\n",
       "    }\n",
       "</style>\n",
       "<table border=\"1\" class=\"dataframe\">\n",
       "  <thead>\n",
       "    <tr style=\"text-align: right;\">\n",
       "      <th></th>\n",
       "      <th>Observation</th>\n",
       "      <th>Dist_Taxi</th>\n",
       "      <th>Dist_Market</th>\n",
       "      <th>Dist_Metro</th>\n",
       "      <th>Store_Area</th>\n",
       "      <th>Items_Available</th>\n",
       "      <th>Daily_Customer_Count</th>\n",
       "      <th>Store_Sales</th>\n",
       "    </tr>\n",
       "  </thead>\n",
       "  <tbody>\n",
       "    <tr>\n",
       "      <th>count</th>\n",
       "      <td>932.000000</td>\n",
       "      <td>919.000000</td>\n",
       "      <td>919.000000</td>\n",
       "      <td>931.000000</td>\n",
       "      <td>924.000000</td>\n",
       "      <td>916.000000</td>\n",
       "      <td>932.000000</td>\n",
       "      <td>9.300000e+02</td>\n",
       "    </tr>\n",
       "    <tr>\n",
       "      <th>mean</th>\n",
       "      <td>466.500000</td>\n",
       "      <td>8229.727965</td>\n",
       "      <td>11018.752992</td>\n",
       "      <td>13072.092374</td>\n",
       "      <td>1511.862554</td>\n",
       "      <td>1795.536026</td>\n",
       "      <td>751.062232</td>\n",
       "      <td>6.082981e+04</td>\n",
       "    </tr>\n",
       "    <tr>\n",
       "      <th>std</th>\n",
       "      <td>269.189524</td>\n",
       "      <td>2561.985008</td>\n",
       "      <td>2543.920590</td>\n",
       "      <td>2586.456161</td>\n",
       "      <td>790.969660</td>\n",
       "      <td>468.048925</td>\n",
       "      <td>309.275944</td>\n",
       "      <td>5.030621e+04</td>\n",
       "    </tr>\n",
       "    <tr>\n",
       "      <th>min</th>\n",
       "      <td>1.000000</td>\n",
       "      <td>146.000000</td>\n",
       "      <td>1666.000000</td>\n",
       "      <td>3227.000000</td>\n",
       "      <td>775.000000</td>\n",
       "      <td>932.000000</td>\n",
       "      <td>-110.000000</td>\n",
       "      <td>3.000000e+02</td>\n",
       "    </tr>\n",
       "    <tr>\n",
       "      <th>25%</th>\n",
       "      <td>233.750000</td>\n",
       "      <td>6476.000000</td>\n",
       "      <td>9354.500000</td>\n",
       "      <td>11301.500000</td>\n",
       "      <td>1318.000000</td>\n",
       "      <td>1583.750000</td>\n",
       "      <td>570.000000</td>\n",
       "      <td>4.658000e+04</td>\n",
       "    </tr>\n",
       "    <tr>\n",
       "      <th>50%</th>\n",
       "      <td>466.500000</td>\n",
       "      <td>8230.000000</td>\n",
       "      <td>11161.000000</td>\n",
       "      <td>13163.000000</td>\n",
       "      <td>1480.500000</td>\n",
       "      <td>1774.500000</td>\n",
       "      <td>770.000000</td>\n",
       "      <td>5.863500e+04</td>\n",
       "    </tr>\n",
       "    <tr>\n",
       "      <th>75%</th>\n",
       "      <td>699.250000</td>\n",
       "      <td>9937.000000</td>\n",
       "      <td>12670.500000</td>\n",
       "      <td>14817.000000</td>\n",
       "      <td>1655.000000</td>\n",
       "      <td>1982.750000</td>\n",
       "      <td>950.000000</td>\n",
       "      <td>7.195750e+04</td>\n",
       "    </tr>\n",
       "    <tr>\n",
       "      <th>max</th>\n",
       "      <td>932.000000</td>\n",
       "      <td>20662.000000</td>\n",
       "      <td>20945.000000</td>\n",
       "      <td>23294.000000</td>\n",
       "      <td>24300.000000</td>\n",
       "      <td>12730.000000</td>\n",
       "      <td>1560.000000</td>\n",
       "      <td>1.500000e+06</td>\n",
       "    </tr>\n",
       "  </tbody>\n",
       "</table>\n",
       "</div>"
      ],
      "text/plain": [
       "       Observation     Dist_Taxi   Dist_Market    Dist_Metro    Store_Area  \\\n",
       "count   932.000000    919.000000    919.000000    931.000000    924.000000   \n",
       "mean    466.500000   8229.727965  11018.752992  13072.092374   1511.862554   \n",
       "std     269.189524   2561.985008   2543.920590   2586.456161    790.969660   \n",
       "min       1.000000    146.000000   1666.000000   3227.000000    775.000000   \n",
       "25%     233.750000   6476.000000   9354.500000  11301.500000   1318.000000   \n",
       "50%     466.500000   8230.000000  11161.000000  13163.000000   1480.500000   \n",
       "75%     699.250000   9937.000000  12670.500000  14817.000000   1655.000000   \n",
       "max     932.000000  20662.000000  20945.000000  23294.000000  24300.000000   \n",
       "\n",
       "       Items_Available  Daily_Customer_Count   Store_Sales  \n",
       "count       916.000000            932.000000  9.300000e+02  \n",
       "mean       1795.536026            751.062232  6.082981e+04  \n",
       "std         468.048925            309.275944  5.030621e+04  \n",
       "min         932.000000           -110.000000  3.000000e+02  \n",
       "25%        1583.750000            570.000000  4.658000e+04  \n",
       "50%        1774.500000            770.000000  5.863500e+04  \n",
       "75%        1982.750000            950.000000  7.195750e+04  \n",
       "max       12730.000000           1560.000000  1.500000e+06  "
      ]
     },
     "execution_count": 5,
     "metadata": {},
     "output_type": "execute_result"
    }
   ],
   "source": [
    "data.describe()"
   ]
  },
  {
   "cell_type": "markdown",
   "id": "f1e3e9d4-484a-45c4-953e-4f4eee88750c",
   "metadata": {},
   "source": [
    "### handling duplicate values"
   ]
  },
  {
   "cell_type": "code",
   "execution_count": 6,
   "id": "b3fc9af0-84f7-4fa9-9850-2e93929b9781",
   "metadata": {},
   "outputs": [
    {
     "name": "stdout",
     "output_type": "stream",
     "text": [
      "Observation              0\n",
      "Dist_Taxi               13\n",
      "Dist_Market             13\n",
      "Dist_Metro               1\n",
      "Store_Area               8\n",
      "Items_Available         16\n",
      "Parking                  0\n",
      "Coupon_Category          0\n",
      "Daily_Customer_Count     0\n",
      "Store_Sales              2\n",
      "dtype: int64\n"
     ]
    }
   ],
   "source": [
    "print(data.isnull().sum())"
   ]
  },
  {
   "cell_type": "code",
   "execution_count": 7,
   "id": "a70448a5-9915-413f-822d-2e9eb1a0e837",
   "metadata": {},
   "outputs": [
    {
     "name": "stdout",
     "output_type": "stream",
     "text": [
      "928\n"
     ]
    }
   ],
   "source": [
    "print(data[\"Parking\"].duplicated().sum()) # this will the number (sum) of the duplicate values"
   ]
  },
  {
   "cell_type": "code",
   "execution_count": 8,
   "id": "b9669e43-ee3e-40c6-9a0f-585529f5171f",
   "metadata": {},
   "outputs": [
    {
     "name": "stdout",
     "output_type": "stream",
     "text": [
      "   Observation  Dist_Taxi  Dist_Market  Dist_Metro  Store_Area  \\\n",
      "0            1     9796.0       5250.0     10703.0      1659.0   \n",
      "1            2     8294.0       8186.0     12694.0      1461.0   \n",
      "3            4     8301.0      11188.0     12289.0      1451.0   \n",
      "6            7    13153.0      11869.0     17811.0      1542.0   \n",
      "\n",
      "   Items_Available       Parking Coupon_Category  Daily_Customer_Count  \\\n",
      "0           1961.0          Open           CAT B                   530   \n",
      "1           1752.0  Not Provided           CAT B                     0   \n",
      "3           1748.0       Covered           CAT B                     0   \n",
      "6           1858.0    No Parking           CAT A                     0   \n",
      "\n",
      "   Store_Sales  \n",
      "0      66490.0  \n",
      "1      39820.0  \n",
      "3      53730.0  \n",
      "6      72240.0  \n"
     ]
    }
   ],
   "source": [
    "print(data.drop_duplicates(\"Parking\")) # this will delete all the duplicate values"
   ]
  },
  {
   "cell_type": "markdown",
   "id": "56b42b56-f946-4f1a-b994-32b3f0c3715e",
   "metadata": {},
   "source": [
    "### handling null values"
   ]
  },
  {
   "cell_type": "code",
   "execution_count": 9,
   "id": "257680e5-5f51-4e02-88b5-879d1648143b",
   "metadata": {},
   "outputs": [
    {
     "name": "stdout",
     "output_type": "stream",
     "text": [
      "     Observation  Dist_Taxi  Dist_Market  Dist_Metro  Store_Area  \\\n",
      "0              1     9796.0       5250.0     10703.0      1659.0   \n",
      "1              2     8294.0       8186.0     12694.0      1461.0   \n",
      "2              3    11001.0      14399.0     16991.0      1340.0   \n",
      "3              4     8301.0      11188.0     12289.0      1451.0   \n",
      "4              5    10510.0      12629.0     13921.0      1770.0   \n",
      "..           ...        ...          ...         ...         ...   \n",
      "927          928    12176.0       8518.0     15673.0      1582.0   \n",
      "928          929     7214.0       8717.0     10553.0      1387.0   \n",
      "929          930     7423.0      11708.0     13220.0      1200.0   \n",
      "930          931    15082.0      14700.0     19617.0      1299.0   \n",
      "931          932     9297.0      12537.0     14418.0      1174.0   \n",
      "\n",
      "     Items_Available       Parking Coupon_Category  Daily_Customer_Count  \\\n",
      "0             1961.0          Open           CAT B                   530   \n",
      "1             1752.0  Not Provided           CAT B                     0   \n",
      "2             1609.0  Not Provided           CAT A                     0   \n",
      "3             1748.0       Covered           CAT B                     0   \n",
      "4             2111.0  Not Provided           CAT B                     0   \n",
      "..               ...           ...             ...                   ...   \n",
      "927           1910.0       Covered           CAT C                  1080   \n",
      "928           1663.0          Open           CAT A                   850   \n",
      "929           1436.0          Open           CAT A                  1060   \n",
      "930           1560.0          Open           CAT B                   770   \n",
      "931           1429.0       Covered           CAT C                  1110   \n",
      "\n",
      "     Store_Sales  \n",
      "0        66490.0  \n",
      "1        39820.0  \n",
      "2        54010.0  \n",
      "3        53730.0  \n",
      "4        46620.0  \n",
      "..           ...  \n",
      "927      66390.0  \n",
      "928      82080.0  \n",
      "929      76440.0  \n",
      "930      96610.0  \n",
      "931      54340.0  \n",
      "\n",
      "[932 rows x 10 columns]\n"
     ]
    }
   ],
   "source": [
    "data = pd.read_csv(\"sales.csv\")\n",
    "print(data)"
   ]
  },
  {
   "cell_type": "code",
   "execution_count": 10,
   "id": "76a8855b-5426-47e9-a91a-d4a2d0a6a5ec",
   "metadata": {},
   "outputs": [
    {
     "name": "stdout",
     "output_type": "stream",
     "text": [
      "Observation              0\n",
      "Dist_Taxi               13\n",
      "Dist_Market             13\n",
      "Dist_Metro               1\n",
      "Store_Area               8\n",
      "Items_Available         16\n",
      "Parking                  0\n",
      "Coupon_Category          0\n",
      "Daily_Customer_Count     0\n",
      "Store_Sales              2\n",
      "dtype: int64\n"
     ]
    }
   ],
   "source": [
    "print(data.isnull().sum())"
   ]
  },
  {
   "cell_type": "code",
   "execution_count": 11,
   "id": "84a81c3d-e9d4-479b-9940-2cfa8b55e4aa",
   "metadata": {},
   "outputs": [
    {
     "name": "stdout",
     "output_type": "stream",
     "text": [
      "     Observation  Dist_Taxi  Dist_Market  Dist_Metro  Store_Area  \\\n",
      "0              1     9796.0       5250.0     10703.0      1659.0   \n",
      "1              2     8294.0       8186.0     12694.0      1461.0   \n",
      "2              3    11001.0      14399.0     16991.0      1340.0   \n",
      "3              4     8301.0      11188.0     12289.0      1451.0   \n",
      "4              5    10510.0      12629.0     13921.0      1770.0   \n",
      "..           ...        ...          ...         ...         ...   \n",
      "927          928    12176.0       8518.0     15673.0      1582.0   \n",
      "928          929     7214.0       8717.0     10553.0      1387.0   \n",
      "929          930     7423.0      11708.0     13220.0      1200.0   \n",
      "930          931    15082.0      14700.0     19617.0      1299.0   \n",
      "931          932     9297.0      12537.0     14418.0      1174.0   \n",
      "\n",
      "     Items_Available       Parking Coupon_Category  Daily_Customer_Count  \\\n",
      "0             1961.0          Open           CAT B                   530   \n",
      "1             1752.0  Not Provided           CAT B                     0   \n",
      "2             1609.0  Not Provided           CAT A                     0   \n",
      "3             1748.0       Covered           CAT B                     0   \n",
      "4             2111.0  Not Provided           CAT B                     0   \n",
      "..               ...           ...             ...                   ...   \n",
      "927           1910.0       Covered           CAT C                  1080   \n",
      "928           1663.0          Open           CAT A                   850   \n",
      "929           1436.0          Open           CAT A                  1060   \n",
      "930           1560.0          Open           CAT B                   770   \n",
      "931           1429.0       Covered           CAT C                  1110   \n",
      "\n",
      "     Store_Sales  \n",
      "0        66490.0  \n",
      "1        39820.0  \n",
      "2        54010.0  \n",
      "3        53730.0  \n",
      "4        46620.0  \n",
      "..           ...  \n",
      "927      66390.0  \n",
      "928      82080.0  \n",
      "929      76440.0  \n",
      "930      96610.0  \n",
      "931      54340.0  \n",
      "\n",
      "[895 rows x 10 columns]\n"
     ]
    }
   ],
   "source": [
    "print(data.dropna()) # drop the null values"
   ]
  },
  {
   "cell_type": "code",
   "execution_count": 12,
   "id": "2746c907-7797-4e05-bcc2-b435537bef33",
   "metadata": {},
   "outputs": [
    {
     "name": "stdout",
     "output_type": "stream",
     "text": [
      "Observation              0\n",
      "Dist_Taxi               13\n",
      "Dist_Market             13\n",
      "Dist_Metro               1\n",
      "Store_Area               8\n",
      "Items_Available         16\n",
      "Parking                  0\n",
      "Coupon_Category          0\n",
      "Daily_Customer_Count     0\n",
      "Store_Sales              2\n",
      "dtype: int64\n"
     ]
    }
   ],
   "source": [
    "print(data.isnull().sum())"
   ]
  },
  {
   "cell_type": "code",
   "execution_count": 13,
   "id": "e04942d1-4793-4f3f-b4bd-f64e0a45134d",
   "metadata": {},
   "outputs": [
    {
     "name": "stdout",
     "output_type": "stream",
     "text": [
      "     Observation Dist_Taxi Dist_Market Dist_Metro Store_Area Items_Available  \\\n",
      "0              1    9796.0      5250.0    10703.0     1659.0          1961.0   \n",
      "1              2    8294.0      8186.0    12694.0     1461.0          1752.0   \n",
      "2              3   11001.0     14399.0    16991.0     1340.0          1609.0   \n",
      "3              4    8301.0     11188.0    12289.0     1451.0          1748.0   \n",
      "4              5   10510.0     12629.0    13921.0     1770.0          2111.0   \n",
      "..           ...       ...         ...        ...        ...             ...   \n",
      "927          928   12176.0      8518.0    15673.0     1582.0          1910.0   \n",
      "928          929    7214.0      8717.0    10553.0     1387.0          1663.0   \n",
      "929          930    7423.0     11708.0    13220.0     1200.0          1436.0   \n",
      "930          931   15082.0     14700.0    19617.0     1299.0          1560.0   \n",
      "931          932    9297.0     12537.0    14418.0     1174.0          1429.0   \n",
      "\n",
      "          Parking Coupon_Category  Daily_Customer_Count Store_Sales  \n",
      "0            Open           CAT B                   530     66490.0  \n",
      "1    Not Provided           CAT B                     0     39820.0  \n",
      "2    Not Provided           CAT A                     0     54010.0  \n",
      "3         Covered           CAT B                     0     53730.0  \n",
      "4    Not Provided           CAT B                     0     46620.0  \n",
      "..            ...             ...                   ...         ...  \n",
      "927       Covered           CAT C                  1080     66390.0  \n",
      "928          Open           CAT A                   850     82080.0  \n",
      "929          Open           CAT A                  1060     76440.0  \n",
      "930          Open           CAT B                   770     96610.0  \n",
      "931       Covered           CAT C                  1110     54340.0  \n",
      "\n",
      "[932 rows x 10 columns]\n"
     ]
    }
   ],
   "source": [
    "import numpy as np\n",
    "print(data.replace(np.nan, \"substitute\")) # this will replace the nan value with the given value, here it is substitute"
   ]
  },
  {
   "cell_type": "code",
   "execution_count": 14,
   "id": "022b3eb3-21c3-4407-86f8-0b435e22871a",
   "metadata": {},
   "outputs": [
    {
     "name": "stdout",
     "output_type": "stream",
     "text": [
      "     Observation  Dist_Taxi Dist_Market  Dist_Metro  Store_Area  \\\n",
      "0              1     9796.0      5250.0     10703.0      1659.0   \n",
      "1              2     8294.0      8186.0     12694.0      1461.0   \n",
      "2              3    11001.0     14399.0     16991.0      1340.0   \n",
      "3              4     8301.0     11188.0     12289.0      1451.0   \n",
      "4              5    10510.0     12629.0     13921.0      1770.0   \n",
      "..           ...        ...         ...         ...         ...   \n",
      "927          928    12176.0      8518.0     15673.0      1582.0   \n",
      "928          929     7214.0      8717.0     10553.0      1387.0   \n",
      "929          930     7423.0     11708.0     13220.0      1200.0   \n",
      "930          931    15082.0     14700.0     19617.0      1299.0   \n",
      "931          932     9297.0     12537.0     14418.0      1174.0   \n",
      "\n",
      "     Items_Available       Parking Coupon_Category  Daily_Customer_Count  \\\n",
      "0             1961.0          Open           CAT B                   530   \n",
      "1             1752.0  Not Provided           CAT B                     0   \n",
      "2             1609.0  Not Provided           CAT A                     0   \n",
      "3             1748.0       Covered           CAT B                     0   \n",
      "4             2111.0  Not Provided           CAT B                     0   \n",
      "..               ...           ...             ...                   ...   \n",
      "927           1910.0       Covered           CAT C                  1080   \n",
      "928           1663.0          Open           CAT A                   850   \n",
      "929           1436.0          Open           CAT A                  1060   \n",
      "930           1560.0          Open           CAT B                   770   \n",
      "931           1429.0       Covered           CAT C                  1110   \n",
      "\n",
      "     Store_Sales  \n",
      "0        66490.0  \n",
      "1        39820.0  \n",
      "2        54010.0  \n",
      "3        53730.0  \n",
      "4        46620.0  \n",
      "..           ...  \n",
      "927      66390.0  \n",
      "928      82080.0  \n",
      "929      76440.0  \n",
      "930      96610.0  \n",
      "931      54340.0  \n",
      "\n",
      "[932 rows x 10 columns]\n"
     ]
    }
   ],
   "source": [
    "data[\"Dist_Market\"] = data[\"Dist_Market\"].replace(np.nan, \"12\") # now this will only replace the values of the particular column that is given\n",
    "print(data)"
   ]
  },
  {
   "cell_type": "code",
   "execution_count": 15,
   "id": "2341fb11-85d3-4700-9c88-b887c1f8de7e",
   "metadata": {},
   "outputs": [
    {
     "name": "stdout",
     "output_type": "stream",
     "text": [
      "8229.727965179543\n"
     ]
    }
   ],
   "source": [
    "print(data[\"Dist_Taxi\"].mean())"
   ]
  },
  {
   "cell_type": "code",
   "execution_count": 16,
   "id": "6b6b2b99-116a-4861-a55b-98a8d697e1ba",
   "metadata": {},
   "outputs": [
    {
     "name": "stdout",
     "output_type": "stream",
     "text": [
      "     Observation  Dist_Taxi Dist_Market  Dist_Metro  Store_Area  \\\n",
      "0              1     9796.0      9796.0     10703.0      1659.0   \n",
      "1              2     8294.0      8294.0     12694.0      1461.0   \n",
      "2              3    11001.0     11001.0     16991.0      1340.0   \n",
      "3              4     8301.0      8301.0     12289.0      1451.0   \n",
      "4              5    10510.0     10510.0     13921.0      1770.0   \n",
      "..           ...        ...         ...         ...         ...   \n",
      "927          928    12176.0     12176.0     15673.0      1582.0   \n",
      "928          929     7214.0      7214.0     10553.0      1387.0   \n",
      "929          930     7423.0      7423.0     13220.0      1200.0   \n",
      "930          931    15082.0     15082.0     19617.0      1299.0   \n",
      "931          932     9297.0      9297.0     14418.0      1174.0   \n",
      "\n",
      "     Items_Available       Parking Coupon_Category  Daily_Customer_Count  \\\n",
      "0             1961.0          Open           CAT B                   530   \n",
      "1             1752.0  Not Provided           CAT B                     0   \n",
      "2             1609.0  Not Provided           CAT A                     0   \n",
      "3             1748.0       Covered           CAT B                     0   \n",
      "4             2111.0  Not Provided           CAT B                     0   \n",
      "..               ...           ...             ...                   ...   \n",
      "927           1910.0       Covered           CAT C                  1080   \n",
      "928           1663.0          Open           CAT A                   850   \n",
      "929           1436.0          Open           CAT A                  1060   \n",
      "930           1560.0          Open           CAT B                   770   \n",
      "931           1429.0       Covered           CAT C                  1110   \n",
      "\n",
      "     Store_Sales  \n",
      "0        66490.0  \n",
      "1        39820.0  \n",
      "2        54010.0  \n",
      "3        53730.0  \n",
      "4        46620.0  \n",
      "..           ...  \n",
      "927      66390.0  \n",
      "928      82080.0  \n",
      "929      76440.0  \n",
      "930      96610.0  \n",
      "931      54340.0  \n",
      "\n",
      "[932 rows x 10 columns]\n"
     ]
    }
   ],
   "source": [
    "data[\"Dist_Market\"] = data[\"Dist_Taxi\"].replace(np.nan, \"8229.727965179543\") # now this will only replace the values of the particular column that is given\n",
    "print(data)"
   ]
  },
  {
   "cell_type": "code",
   "execution_count": 17,
   "id": "fb6f4dd6-dda5-4df2-873b-d9fd9ec75b17",
   "metadata": {},
   "outputs": [
    {
     "name": "stdout",
     "output_type": "stream",
     "text": [
      "     Observation  Dist_Taxi Dist_Market  Dist_Metro  Store_Area  \\\n",
      "0              1     9796.0      9796.0     10703.0      1659.0   \n",
      "1              2     8294.0      8294.0     12694.0      1461.0   \n",
      "2              3    11001.0     11001.0     16991.0      1340.0   \n",
      "3              4     8301.0      8301.0     12289.0      1451.0   \n",
      "4              5    10510.0     10510.0     13921.0      1770.0   \n",
      "..           ...        ...         ...         ...         ...   \n",
      "927          928    12176.0     12176.0     15673.0      1582.0   \n",
      "928          929     7214.0      7214.0     10553.0      1387.0   \n",
      "929          930     7423.0      7423.0     13220.0      1200.0   \n",
      "930          931    15082.0     15082.0     19617.0      1299.0   \n",
      "931          932     9297.0      9297.0     14418.0      1174.0   \n",
      "\n",
      "     Items_Available       Parking Coupon_Category  Daily_Customer_Count  \\\n",
      "0             1961.0          Open           CAT B                   530   \n",
      "1             1752.0  Not Provided           CAT B                     0   \n",
      "2             1609.0  Not Provided           CAT A                     0   \n",
      "3             1748.0       Covered           CAT B                     0   \n",
      "4             2111.0  Not Provided           CAT B                     0   \n",
      "..               ...           ...             ...                   ...   \n",
      "927           1910.0       Covered           CAT C                  1080   \n",
      "928           1663.0          Open           CAT A                   850   \n",
      "929           1436.0          Open           CAT A                  1060   \n",
      "930           1560.0          Open           CAT B                   770   \n",
      "931           1429.0       Covered           CAT C                  1110   \n",
      "\n",
      "     Store_Sales  \n",
      "0        66490.0  \n",
      "1        39820.0  \n",
      "2        54010.0  \n",
      "3        53730.0  \n",
      "4        46620.0  \n",
      "..           ...  \n",
      "927      66390.0  \n",
      "928      82080.0  \n",
      "929      76440.0  \n",
      "930      96610.0  \n",
      "931      54340.0  \n",
      "\n",
      "[932 rows x 10 columns]\n"
     ]
    },
    {
     "name": "stderr",
     "output_type": "stream",
     "text": [
      "C:\\Users\\hp\\AppData\\Local\\Temp\\ipykernel_13916\\4146077907.py:1: FutureWarning: DataFrame.fillna with 'method' is deprecated and will raise in a future version. Use obj.ffill() or obj.bfill() instead.\n",
      "  print(data.fillna(method=\"bfill\")) #bfill means upper value at lower and ffill means lower value at upper, used where filling nan values is crutial\n"
     ]
    }
   ],
   "source": [
    "print(data.fillna(method=\"bfill\")) #bfill means upper value at lower and ffill means lower value at upper, used where filling nan values is crutial"
   ]
  },
  {
   "cell_type": "code",
   "execution_count": null,
   "id": "66f93994-a71f-464d-9ad2-10ed5e0fd19e",
   "metadata": {},
   "outputs": [],
   "source": [
    "### columns transformation\n",
    "\n",
    "data = pd.read_csv(\"hotel_bookings.csv\")\n",
    "print(data.columns)"
   ]
  },
  {
   "cell_type": "code",
   "execution_count": 19,
   "id": "f9a16369-8c7e-4270-84ff-103edd10f61a",
   "metadata": {},
   "outputs": [
    {
     "name": "stdout",
     "output_type": "stream",
     "text": [
      "               hotel  is_canceled  lead_time  arrival_date_year  \\\n",
      "0       Resort Hotel            0        342               2015   \n",
      "1       Resort Hotel            0        737               2015   \n",
      "2       Resort Hotel            0          7               2015   \n",
      "3       Resort Hotel            0         13               2015   \n",
      "4       Resort Hotel            0         14               2015   \n",
      "...              ...          ...        ...                ...   \n",
      "119385    City Hotel            0         23               2017   \n",
      "119386    City Hotel            0        102               2017   \n",
      "119387    City Hotel            0         34               2017   \n",
      "119388    City Hotel            0        109               2017   \n",
      "119389    City Hotel            0        205               2017   \n",
      "\n",
      "       arrival_date_month  arrival_date_week_number  \\\n",
      "0                    July                        27   \n",
      "1                    July                        27   \n",
      "2                    July                        27   \n",
      "3                    July                        27   \n",
      "4                    July                        27   \n",
      "...                   ...                       ...   \n",
      "119385             August                        35   \n",
      "119386             August                        35   \n",
      "119387             August                        35   \n",
      "119388             August                        35   \n",
      "119389             August                        35   \n",
      "\n",
      "        arrival_date_day_of_month  stays_in_weekend_nights  \\\n",
      "0                               1                        0   \n",
      "1                               1                        0   \n",
      "2                               1                        0   \n",
      "3                               1                        0   \n",
      "4                               1                        0   \n",
      "...                           ...                      ...   \n",
      "119385                         30                        2   \n",
      "119386                         31                        2   \n",
      "119387                         31                        2   \n",
      "119388                         31                        2   \n",
      "119389                         29                        2   \n",
      "\n",
      "        stays_in_week_nights  adults  ...  agent  company  \\\n",
      "0                          0       2  ...    NaN      NaN   \n",
      "1                          0       2  ...    NaN      NaN   \n",
      "2                          1       1  ...    NaN      NaN   \n",
      "3                          1       1  ...  304.0      NaN   \n",
      "4                          2       2  ...  240.0      NaN   \n",
      "...                      ...     ...  ...    ...      ...   \n",
      "119385                     5       2  ...  394.0      NaN   \n",
      "119386                     5       3  ...    9.0      NaN   \n",
      "119387                     5       2  ...    9.0      NaN   \n",
      "119388                     5       2  ...   89.0      NaN   \n",
      "119389                     7       2  ...    9.0      NaN   \n",
      "\n",
      "       days_in_waiting_list customer_type     adr required_car_parking_spaces  \\\n",
      "0                         0     Transient    0.00                           0   \n",
      "1                         0     Transient    0.00                           0   \n",
      "2                         0     Transient   75.00                           0   \n",
      "3                         0     Transient   75.00                           0   \n",
      "4                         0     Transient   98.00                           0   \n",
      "...                     ...           ...     ...                         ...   \n",
      "119385                    0     Transient   96.14                           0   \n",
      "119386                    0     Transient  225.43                           0   \n",
      "119387                    0     Transient  157.71                           0   \n",
      "119388                    0     Transient  104.40                           0   \n",
      "119389                    0     Transient  151.20                           0   \n",
      "\n",
      "        total_of_special_requests  reservation_status  \\\n",
      "0                               0           Check-Out   \n",
      "1                               0           Check-Out   \n",
      "2                               0           Check-Out   \n",
      "3                               0           Check-Out   \n",
      "4                               1           Check-Out   \n",
      "...                           ...                 ...   \n",
      "119385                          0           Check-Out   \n",
      "119386                          2           Check-Out   \n",
      "119387                          4           Check-Out   \n",
      "119388                          0           Check-Out   \n",
      "119389                          2           Check-Out   \n",
      "\n",
      "        reservation_status_date booking changed  \n",
      "0                    2015-07-01         changes  \n",
      "1                    2015-07-01         changes  \n",
      "2                    2015-07-02       no change  \n",
      "3                    2015-07-02       no change  \n",
      "4                    2015-07-03       no change  \n",
      "...                         ...             ...  \n",
      "119385               2017-09-06       no change  \n",
      "119386               2017-09-07       no change  \n",
      "119387               2017-09-07       no change  \n",
      "119388               2017-09-07       no change  \n",
      "119389               2017-09-07       no change  \n",
      "\n",
      "[119390 rows x 33 columns]\n"
     ]
    }
   ],
   "source": [
    "data.loc[(data[\"booking_changes\"] == 0), \"booking changed\"] = \"no change\"\n",
    "data.loc[(data[\"booking_changes\"] > 0), \"booking changed\"] = \"changes\"\n",
    "print(data)\n",
    "# This will create a new column that is booking changed and the values will be changed and no changes accordingly"
   ]
  },
  {
   "cell_type": "code",
   "execution_count": 20,
   "id": "82f214bc-a6d5-4982-8d5c-cf6be7fe2b70",
   "metadata": {},
   "outputs": [
    {
     "name": "stdout",
     "output_type": "stream",
     "text": [
      "  First name Last name  class\n",
      "0     govind     gupta     16\n",
      "1      varun  sachdeva     16\n",
      "2     dhwani      garg     16\n",
      "3       amit       sen     15\n",
      "4       sonu     gupta     14\n"
     ]
    }
   ],
   "source": [
    "data = pd.read_excel(\"normal.xlsx\")\n",
    "print(data)"
   ]
  },
  {
   "cell_type": "code",
   "execution_count": 21,
   "id": "fd22a845-526c-40a0-904b-302e7d900358",
   "metadata": {},
   "outputs": [
    {
     "name": "stdout",
     "output_type": "stream",
     "text": [
      "  First name Last name  class       Full Name\n",
      "0     govind     gupta     16    govind gupta\n",
      "1      varun  sachdeva     16  varun sachdeva\n",
      "2     dhwani      garg     16     dhwani garg\n",
      "3       amit       sen     15        amit sen\n",
      "4       sonu     gupta     14      sonu gupta\n"
     ]
    }
   ],
   "source": [
    "data[\"Full Name\"] = data[\"First name\"] + \" \" + data[\"Last name\"]\n",
    "print(data)"
   ]
  },
  {
   "cell_type": "code",
   "execution_count": 22,
   "id": "b2af4a4f-e0f0-416e-ae15-0689f8a413c8",
   "metadata": {},
   "outputs": [
    {
     "name": "stdout",
     "output_type": "stream",
     "text": [
      "  First name Last name  class       Full Name\n",
      "0     govind     gupta     16    Govind Gupta\n",
      "1      varun  sachdeva     16  Varun Sachdeva\n",
      "2     dhwani      garg     16     Dhwani Garg\n",
      "3       amit       sen     15        Amit Sen\n",
      "4       sonu     gupta     14      Sonu Gupta\n"
     ]
    }
   ],
   "source": [
    "data[\"Full Name\"] = data[\"First name\"].str.capitalize() + \" \" + data[\"Last name\"].str.capitalize()\n",
    "print(data)"
   ]
  },
  {
   "cell_type": "code",
   "execution_count": 23,
   "id": "31885661-c154-4f15-855f-a633cf127c30",
   "metadata": {},
   "outputs": [
    {
     "name": "stdout",
     "output_type": "stream",
     "text": [
      "               hotel  is_canceled  lead_time  arrival_date_year  \\\n",
      "0       Resort Hotel            0        342               2015   \n",
      "1       Resort Hotel            0        737               2015   \n",
      "2       Resort Hotel            0          7               2015   \n",
      "3       Resort Hotel            0         13               2015   \n",
      "4       Resort Hotel            0         14               2015   \n",
      "...              ...          ...        ...                ...   \n",
      "119385    City Hotel            0         23               2017   \n",
      "119386    City Hotel            0        102               2017   \n",
      "119387    City Hotel            0         34               2017   \n",
      "119388    City Hotel            0        109               2017   \n",
      "119389    City Hotel            0        205               2017   \n",
      "\n",
      "       arrival_date_month  arrival_date_week_number  \\\n",
      "0                    July                        27   \n",
      "1                    July                        27   \n",
      "2                    July                        27   \n",
      "3                    July                        27   \n",
      "4                    July                        27   \n",
      "...                   ...                       ...   \n",
      "119385             August                        35   \n",
      "119386             August                        35   \n",
      "119387             August                        35   \n",
      "119388             August                        35   \n",
      "119389             August                        35   \n",
      "\n",
      "        arrival_date_day_of_month  stays_in_weekend_nights  \\\n",
      "0                               1                        0   \n",
      "1                               1                        0   \n",
      "2                               1                        0   \n",
      "3                               1                        0   \n",
      "4                               1                        0   \n",
      "...                           ...                      ...   \n",
      "119385                         30                        2   \n",
      "119386                         31                        2   \n",
      "119387                         31                        2   \n",
      "119388                         31                        2   \n",
      "119389                         29                        2   \n",
      "\n",
      "        stays_in_week_nights  adults  ...  deposit_type  agent company  \\\n",
      "0                          0       2  ...    No Deposit    NaN     NaN   \n",
      "1                          0       2  ...    No Deposit    NaN     NaN   \n",
      "2                          1       1  ...    No Deposit    NaN     NaN   \n",
      "3                          1       1  ...    No Deposit  304.0     NaN   \n",
      "4                          2       2  ...    No Deposit  240.0     NaN   \n",
      "...                      ...     ...  ...           ...    ...     ...   \n",
      "119385                     5       2  ...    No Deposit  394.0     NaN   \n",
      "119386                     5       3  ...    No Deposit    9.0     NaN   \n",
      "119387                     5       2  ...    No Deposit    9.0     NaN   \n",
      "119388                     5       2  ...    No Deposit   89.0     NaN   \n",
      "119389                     7       2  ...    No Deposit    9.0     NaN   \n",
      "\n",
      "       days_in_waiting_list customer_type     adr  \\\n",
      "0                         0     Transient    0.00   \n",
      "1                         0     Transient    0.00   \n",
      "2                         0     Transient   75.00   \n",
      "3                         0     Transient   75.00   \n",
      "4                         0     Transient   98.00   \n",
      "...                     ...           ...     ...   \n",
      "119385                    0     Transient   96.14   \n",
      "119386                    0     Transient  225.43   \n",
      "119387                    0     Transient  157.71   \n",
      "119388                    0     Transient  104.40   \n",
      "119389                    0     Transient  151.20   \n",
      "\n",
      "        required_car_parking_spaces  total_of_special_requests  \\\n",
      "0                                 0                          0   \n",
      "1                                 0                          0   \n",
      "2                                 0                          0   \n",
      "3                                 0                          0   \n",
      "4                                 0                          1   \n",
      "...                             ...                        ...   \n",
      "119385                            0                          0   \n",
      "119386                            0                          2   \n",
      "119387                            0                          4   \n",
      "119388                            0                          0   \n",
      "119389                            0                          2   \n",
      "\n",
      "        reservation_status reservation_status_date  \n",
      "0                Check-Out              2015-07-01  \n",
      "1                Check-Out              2015-07-01  \n",
      "2                Check-Out              2015-07-02  \n",
      "3                Check-Out              2015-07-02  \n",
      "4                Check-Out              2015-07-03  \n",
      "...                    ...                     ...  \n",
      "119385           Check-Out              2017-09-06  \n",
      "119386           Check-Out              2017-09-07  \n",
      "119387           Check-Out              2017-09-07  \n",
      "119388           Check-Out              2017-09-07  \n",
      "119389           Check-Out              2017-09-07  \n",
      "\n",
      "[119390 rows x 32 columns]\n"
     ]
    }
   ],
   "source": [
    "data = pd.read_csv(\"hotel_bookings.csv\")\n",
    "print(data)"
   ]
  },
  {
   "cell_type": "markdown",
   "id": "877869c8-160a-4c7b-95f7-907a9f764b3c",
   "metadata": {},
   "source": [
    "## groupby functions"
   ]
  },
  {
   "cell_type": "code",
   "execution_count": 24,
   "id": "0bb05a0e-4eaa-4c93-ac4b-6c16ce23e606",
   "metadata": {},
   "outputs": [
    {
     "name": "stdout",
     "output_type": "stream",
     "text": [
      "                    agent\n",
      "arrival_date_month       \n",
      "April                9758\n",
      "August              12682\n",
      "December             5631\n",
      "February             6461\n",
      "January              4563\n",
      "July                11604\n",
      "June                 9806\n",
      "March                8149\n",
      "May                 10089\n",
      "November             5409\n",
      "October              9461\n",
      "September            9437\n"
     ]
    }
   ],
   "source": [
    "gp  = data.groupby(\"arrival_date_month\").agg({\"agent\":\"count\"})\n",
    "#gp  = data.groupby([\"arrival_date_month\", \"other subcategory\"]).agg({\"agent\": \"count\"}) ## This will give the aggregate but with the bifurcation of the second parameter\n",
    "print(gp)"
   ]
  },
  {
   "cell_type": "markdown",
   "id": "6d6444c7-623f-46dd-8a0e-a6505e80c0cd",
   "metadata": {},
   "source": [
    "## joins, merge, concatinate"
   ]
  },
  {
   "cell_type": "code",
   "execution_count": 27,
   "id": "52542cd4-4ef8-4933-859e-1d39a6eafce3",
   "metadata": {},
   "outputs": [
    {
     "name": "stdout",
     "output_type": "stream",
     "text": [
      "  empid  names  age\n",
      "0    e1    ram   23\n",
      "1    e2   sham   34\n",
      "2    e3   tinu   24\n",
      "3    e4   rahu   21\n",
      "4    e5    tom   27\n",
      "5    e6  jerry   26\n",
      "\n",
      "  empid  salary\n",
      "0    e1   45000\n",
      "1    e2   54000\n",
      "2    e3   60000\n",
      "3    e4   38000\n",
      "4    e5   51000\n",
      "5    e6   80000\n"
     ]
    }
   ],
   "source": [
    "data1 = {\"empid\":[\"e1\",\"e2\",\"e3\",\"e4\",\"e5\",\"e6\"],\n",
    "        \"names\":[\"ram\",\"sham\",\"tinu\",\"rahu\",\"tom\",\"jerry\"],\n",
    "        \"age\":[23,34,24,21,27,26]}\n",
    "\n",
    "data2 = {\"empid\":[\"e1\",\"e2\",\"e3\",\"e4\",\"e5\",\"e6\"],\n",
    "        \"salary\":[45000,54000,60000,38000,51000,80000]}\n",
    "\n",
    "df1 = pd.DataFrame(data1)\n",
    "df2 = pd.DataFrame(data2)\n",
    "\n",
    "print(df1)\n",
    "print()\n",
    "print(df2)"
   ]
  },
  {
   "cell_type": "code",
   "execution_count": 28,
   "id": "d2e5a35e-eb24-4031-bfca-bfb63c80968a",
   "metadata": {},
   "outputs": [
    {
     "name": "stdout",
     "output_type": "stream",
     "text": [
      "  empid  names  age  salary\n",
      "0    e1    ram   23   45000\n",
      "1    e2   sham   34   54000\n",
      "2    e3   tinu   24   60000\n",
      "3    e4   rahu   21   38000\n",
      "4    e5    tom   27   51000\n",
      "5    e6  jerry   26   80000\n"
     ]
    }
   ],
   "source": [
    "print(pd.merge(df1,df2,on = \"empid\"))\n",
    "#\"on\" word is used for \"on the basis of\""
   ]
  },
  {
   "cell_type": "code",
   "execution_count": 35,
   "id": "51603546-cea9-4c9c-a94f-0dce2b10e907",
   "metadata": {},
   "outputs": [
    {
     "name": "stdout",
     "output_type": "stream",
     "text": [
      "  empid  names  age\n",
      "0    e1    ram   23\n",
      "1    e2   sham   34\n",
      "2    e3   tinu   24\n",
      "3    e4   rahu   21\n",
      "4    e5    tom   27\n",
      "5    e6  jerry   26\n",
      "\n",
      "  empid  salary\n",
      "0    e1   45000\n",
      "1    e7   54000\n",
      "2    e3   60000\n",
      "3    e4   38000\n",
      "4    e8   51000\n",
      "5    e6   80000\n"
     ]
    }
   ],
   "source": [
    "data1 = {\"empid\":[\"e1\",\"e2\",\"e3\",\"e4\",\"e5\",\"e6\"],\n",
    "        \"names\":[\"ram\",\"sham\",\"tinu\",\"rahu\",\"tom\",\"jerry\"],\n",
    "        \"age\":[23,34,24,21,27,26]}\n",
    "\n",
    "data2 = {\"empid\":[\"e1\",\"e7\",\"e3\",\"e4\",\"e8\",\"e6\"],\n",
    "        \"salary\":[45000,54000,60000,38000,51000,80000]}\n",
    "\n",
    "df1 = pd.DataFrame(data1)\n",
    "df2 = pd.DataFrame(data2)\n",
    "\n",
    "print(df1)\n",
    "print()\n",
    "print(df2)"
   ]
  },
  {
   "cell_type": "code",
   "execution_count": 30,
   "id": "9505d259-e741-43f3-b530-25f0e3b986ba",
   "metadata": {},
   "outputs": [
    {
     "name": "stdout",
     "output_type": "stream",
     "text": [
      "  empid  names  age  salary\n",
      "0    e1    ram   23   45000\n",
      "1    e3   tinu   24   60000\n",
      "2    e4   rahu   21   38000\n",
      "3    e6  jerry   26   80000\n"
     ]
    }
   ],
   "source": [
    "print(pd.merge(df1,df2,on = \"empid\")) # as now the data has been slightly changes the result is different"
   ]
  },
  {
   "cell_type": "code",
   "execution_count": 32,
   "id": "29b4292c-be6b-409f-9785-9cc4f9b731c3",
   "metadata": {},
   "outputs": [
    {
     "name": "stdout",
     "output_type": "stream",
     "text": [
      "  empid  names  age   salary\n",
      "0    e1    ram   23  45000.0\n",
      "1    e2   sham   34      NaN\n",
      "2    e3   tinu   24  60000.0\n",
      "3    e4   rahu   21  38000.0\n",
      "4    e5    tom   27      NaN\n",
      "5    e6  jerry   26  80000.0\n"
     ]
    }
   ],
   "source": [
    "print(pd.merge(left = df1,right = df2,on = \"empid\", how = \"left\")) # with the help of how it is specified that which column has to be prioritized\n",
    "#now this has been specified that what is left and what is right so this is giving the correct and accurate output"
   ]
  },
  {
   "cell_type": "code",
   "execution_count": 36,
   "id": "9b0a2e6c-ca28-463e-8f98-35ea4c4384f9",
   "metadata": {},
   "outputs": [
    {
     "name": "stdout",
     "output_type": "stream",
     "text": [
      "  empid  names   age  salary\n",
      "0    e1    ram  23.0   45000\n",
      "1    e7    NaN   NaN   54000\n",
      "2    e3   tinu  24.0   60000\n",
      "3    e4   rahu  21.0   38000\n",
      "4    e8    NaN   NaN   51000\n",
      "5    e6  jerry  26.0   80000\n"
     ]
    }
   ],
   "source": [
    "print(pd.merge(left = df1,right = df2,on = \"empid\", how = \"right\"))\n",
    "# here the ouput is according to the second data "
   ]
  },
  {
   "cell_type": "code",
   "execution_count": 38,
   "id": "f0274a49-1b75-4955-a35c-57ebbf6b1277",
   "metadata": {},
   "outputs": [
    {
     "name": "stdout",
     "output_type": "stream",
     "text": [
      "  empid  names  age\n",
      "0    e1    ram   23\n",
      "1    e2   sham   34\n",
      "2    e3   tinu   24\n",
      "3    e4   rahu   21\n",
      "4    e5    tom   27\n",
      "5    e6  jerry   26\n",
      "0    e7  tinni   23\n",
      "1    e8  tillu   34\n",
      "2    e9   rita   24\n",
      "3   e10   john   21\n",
      "4   e11   golu   27\n",
      "5   e12  tinga   26\n"
     ]
    }
   ],
   "source": [
    "data1 = {\"empid\":[\"e1\",\"e2\",\"e3\",\"e4\",\"e5\",\"e6\"],\n",
    "        \"names\":[\"ram\",\"sham\",\"tinu\",\"rahu\",\"tom\",\"jerry\"],\n",
    "        \"age\":[23,34,24,21,27,26]}\n",
    "\n",
    "data2 = {\"empid\":[\"e7\",\"e8\",\"e9\",\"e10\",\"e11\",\"e12\"],\n",
    "        \"names\":[\"tinni\",\"tillu\",\"rita\",\"john\",\"golu\",\"tinga\"],\n",
    "        \"age\":[23,34,24,21,27,26]}\n",
    "\n",
    "df1 = pd.DataFrame(data1)\n",
    "df2 = pd.DataFrame(data2)\n",
    "\n",
    "print(pd.concat([df1,df2]))"
   ]
  },
  {
   "cell_type": "markdown",
   "id": "e1cc7606-895c-45a7-a03c-5d09c0d9cdb7",
   "metadata": {},
   "source": [
    "## compare"
   ]
  },
  {
   "cell_type": "code",
   "execution_count": 47,
   "id": "8cc66cdb-8536-4868-ad86-93e65c346244",
   "metadata": {},
   "outputs": [
    {
     "name": "stdout",
     "output_type": "stream",
     "text": [
      "      fruits  price  quantity\n",
      "0      mango    100         1\n",
      "1  pineapple    150         2\n",
      "2      apple    200         3\n",
      "3     banana    125         4\n",
      "\n",
      "      fruits  price  quantity\n",
      "0      mango    200         4\n",
      "1  pineapple    175         2\n",
      "2      apple    200         3\n",
      "3     banana    150         3\n",
      "\n",
      "         price  quantity\n",
      "0 self   100.0       1.0\n",
      "  other  200.0       4.0\n",
      "1 self   150.0       NaN\n",
      "  other  175.0       NaN\n",
      "3 self   125.0       4.0\n",
      "  other  150.0       3.0\n"
     ]
    }
   ],
   "source": [
    "dict = {\"fruits\": [\"mango\", \"pineapple\",\"apple\", \"banana\"],\n",
    "       \"price\": [100,150,200,125],\n",
    "       \"quantity\": [1,2,3,4]}\n",
    "\n",
    "df1 = pd.DataFrame(dict)\n",
    "print(df1)\n",
    "\n",
    "print()\n",
    "\n",
    "df2 = df1.copy()\n",
    "\n",
    "df2.loc[0, \"price\"] = 200\n",
    "df2.loc[1, \"price\"] = 175\n",
    "df2.loc[3, \"price\"] = 150\n",
    "df2.loc[0, \"quantity\"] = 4\n",
    "df2.loc[1, \"quantity\"] = 2\n",
    "df2.loc[3, \"quantity\"] = 3\n",
    "\n",
    "print(df2)\n",
    "\n",
    "print()\n",
    "\n",
    "print(df1.compare(df2, align_axis = 0))"
   ]
  },
  {
   "cell_type": "markdown",
   "id": "f27bbc7b-d019-409a-a92c-1ea28fd7b5de",
   "metadata": {},
   "source": [
    "## pivoting and melting"
   ]
  },
  {
   "cell_type": "code",
   "execution_count": 60,
   "id": "b9003197-bab7-4243-a9d3-d701673b3242",
   "metadata": {},
   "outputs": [
    {
     "name": "stdout",
     "output_type": "stream",
     "text": [
      "  keys   names  houses grades\n",
      "0   k1   bittu     red    3rd\n",
      "1   k2  chintu   green    4th\n",
      "2   k1   gulli    blue    5th\n",
      "3   k2    tinu  yellow    6th\n",
      "\n",
      "      houses                      grades                  \n",
      "names  bittu chintu gulli    tinu  bittu chintu gulli tinu\n",
      "keys                                                      \n",
      "k1       red    NaN  blue     NaN    3rd    NaN   5th  NaN\n",
      "k2       NaN  green   NaN  yellow    NaN    4th   NaN  6th\n"
     ]
    }
   ],
   "source": [
    "#pivoting\n",
    "\n",
    "import pandas as pd\n",
    "\n",
    "dict = {\"keys\":[\"k1\",\"k2\",\"k1\",\"k2\"],\n",
    "        \"names\":[\"bittu\",\"chintu\",\"gulli\",\"tinu\"],\n",
    "        \"houses\":[\"red\",\"green\",\"blue\",\"yellow\"],\n",
    "        \"grades\":[\"3rd\",\"4th\",\"5th\",\"6th\"]}\n",
    "\n",
    "df = pd.DataFrame(dict)\n",
    "print(df)\n",
    "print()\n",
    "print(df.pivot( index='keys', columns='names', values=['houses','grades'])) "
   ]
  },
  {
   "cell_type": "code",
   "execution_count": 68,
   "id": "777666ee-826c-410f-b3f3-e58aa5ee7423",
   "metadata": {},
   "outputs": [
    {
     "name": "stdout",
     "output_type": "stream",
     "text": [
      "    names  houses grades\n",
      "0   bittu     red    3rd\n",
      "1  chintu   green    4th\n",
      "2   gulli    blue    5th\n",
      "3    tinu  yellow    6th\n",
      "\n",
      "    names variable   value\n",
      "0   bittu   houses     red\n",
      "1  chintu   houses   green\n",
      "2   gulli   houses    blue\n",
      "3    tinu   houses  yellow\n",
      "4   bittu   grades     3rd\n",
      "5  chintu   grades     4th\n",
      "6   gulli   grades     5th\n",
      "7    tinu   grades     6th\n"
     ]
    }
   ],
   "source": [
    "dict = {\"names\":[\"bittu\",\"chintu\",\"gulli\",\"tinu\"],\n",
    "        \"houses\":[\"red\",\"green\",\"blue\",\"yellow\"],\n",
    "        \"grades\":[\"3rd\",\"4th\",\"5th\",\"6th\"]}\n",
    "\n",
    "df = pd.DataFrame(dict)\n",
    "print(df)\n",
    "print()\n",
    "print(pd.melt(df, id_vars= [\"names\"], value_vars=[\"houses\", \"grades\"]))\n",
    "# var_name and value_name are also used for the heading instead of variable and value"
   ]
  },
  {
   "cell_type": "code",
   "execution_count": null,
   "id": "da759c21-2357-4527-b5ce-1ac193580dea",
   "metadata": {},
   "outputs": [],
   "source": []
  }
 ],
 "metadata": {
  "kernelspec": {
   "display_name": "Python 3 (ipykernel)",
   "language": "python",
   "name": "python3"
  },
  "language_info": {
   "codemirror_mode": {
    "name": "ipython",
    "version": 3
   },
   "file_extension": ".py",
   "mimetype": "text/x-python",
   "name": "python",
   "nbconvert_exporter": "python",
   "pygments_lexer": "ipython3",
   "version": "3.10.7"
  }
 },
 "nbformat": 4,
 "nbformat_minor": 5
}
