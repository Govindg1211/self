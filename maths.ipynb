{
 "cells": [
  {
   "cell_type": "code",
   "execution_count": 4,
   "id": "d837842a-8f8e-457f-b03a-6dcdc2f9a7e4",
   "metadata": {},
   "outputs": [
    {
     "name": "stdin",
     "output_type": "stream",
     "text": [
      "Enter a list of numbers separated by spaces:  12 23 34 45 56 \n"
     ]
    },
    {
     "name": "stdout",
     "output_type": "stream",
     "text": [
      "\n",
      "Menu:\n",
      "1. Calculate Sum\n",
      "2. Calculate Average\n",
      "3. Find Maximum\n",
      "4. Find Minimum\n",
      "5. Check Even/Odd\n",
      "6. Exit\n"
     ]
    },
    {
     "name": "stdin",
     "output_type": "stream",
     "text": [
      "Select an option (1-6):  1\n"
     ]
    },
    {
     "name": "stdout",
     "output_type": "stream",
     "text": [
      "Sum: 170\n",
      "\n",
      "Menu:\n",
      "1. Calculate Sum\n",
      "2. Calculate Average\n",
      "3. Find Maximum\n",
      "4. Find Minimum\n",
      "5. Check Even/Odd\n",
      "6. Exit\n"
     ]
    },
    {
     "name": "stdin",
     "output_type": "stream",
     "text": [
      "Select an option (1-6):  2\n"
     ]
    },
    {
     "name": "stdout",
     "output_type": "stream",
     "text": [
      "Average: 34.00\n",
      "\n",
      "Menu:\n",
      "1. Calculate Sum\n",
      "2. Calculate Average\n",
      "3. Find Maximum\n",
      "4. Find Minimum\n",
      "5. Check Even/Odd\n",
      "6. Exit\n"
     ]
    },
    {
     "name": "stdin",
     "output_type": "stream",
     "text": [
      "Select an option (1-6):  3\n"
     ]
    },
    {
     "name": "stdout",
     "output_type": "stream",
     "text": [
      "Maximum: 56\n",
      "\n",
      "Menu:\n",
      "1. Calculate Sum\n",
      "2. Calculate Average\n",
      "3. Find Maximum\n",
      "4. Find Minimum\n",
      "5. Check Even/Odd\n",
      "6. Exit\n"
     ]
    },
    {
     "name": "stdin",
     "output_type": "stream",
     "text": [
      "Select an option (1-6):  4\n"
     ]
    },
    {
     "name": "stdout",
     "output_type": "stream",
     "text": [
      "Minimum: 12\n",
      "\n",
      "Menu:\n",
      "1. Calculate Sum\n",
      "2. Calculate Average\n",
      "3. Find Maximum\n",
      "4. Find Minimum\n",
      "5. Check Even/Odd\n",
      "6. Exit\n"
     ]
    },
    {
     "name": "stdin",
     "output_type": "stream",
     "text": [
      "Select an option (1-6):  5\n"
     ]
    },
    {
     "name": "stdout",
     "output_type": "stream",
     "text": [
      "12 is Even.\n",
      "23 is Odd.\n",
      "34 is Even.\n",
      "45 is Odd.\n",
      "56 is Even.\n",
      "\n",
      "Menu:\n",
      "1. Calculate Sum\n",
      "2. Calculate Average\n",
      "3. Find Maximum\n",
      "4. Find Minimum\n",
      "5. Check Even/Odd\n",
      "6. Exit\n"
     ]
    },
    {
     "name": "stdin",
     "output_type": "stream",
     "text": [
      "Select an option (1-6):  6\n"
     ]
    },
    {
     "name": "stdout",
     "output_type": "stream",
     "text": [
      "Exiting the program. Goodbye!\n"
     ]
    }
   ],
   "source": [
    "###### Importing necessary libraries\n",
    "import numpy as np\n",
    "\n",
    "def display_menu():\n",
    "    \"\"\"Displays the menu options for the user.\"\"\"\n",
    "    print(\"\\nMenu:\")\n",
    "    print(\"1. Calculate Sum\")\n",
    "    print(\"2. Calculate Average\")\n",
    "    print(\"3. Find Maximum\")\n",
    "    print(\"4. Find Minimum\")\n",
    "    print(\"5. Check Even/Odd\")\n",
    "    print(\"6. Exit\")\n",
    "\n",
    "def calculate_sum(numbers):\n",
    "    \"\"\"Calculates the sum of the numbers in the list.\"\"\"\n",
    "    return sum(numbers)\n",
    "\n",
    "def calculate_average(numbers):\n",
    "    \"\"\"Calculates the average of the numbers in the list.\"\"\"\n",
    "    return np.mean(numbers)\n",
    "\n",
    "def find_maximum(numbers):\n",
    "    \"\"\"Finds the maximum number in the list.\"\"\"\n",
    "    return max(numbers)\n",
    "\n",
    "def find_minimum(numbers):\n",
    "    \"\"\"Finds the minimum number in the list.\"\"\"\n",
    "    return min(numbers)\n",
    "\n",
    "def check_even_odd(numbers):\n",
    "    \"\"\"Checks if each number in the list is even or odd.\"\"\"\n",
    "    return {num: \"Even\" if num % 2 == 0 else \"Odd\" for num in numbers}\n",
    "\n",
    "def main():\n",
    "    \"\"\"Main function to execute the program.\"\"\"\n",
    "    \n",
    "    # Asking user for input and converting it to a list of integers\n",
    "    user_input = input(\"Enter a list of numbers separated by spaces: \")\n",
    "    \n",
    "    # Converting input string to a list of integers\n",
    "    try:\n",
    "        numbers = [int(num) for num in user_input.split()]\n",
    "        \n",
    "        if not numbers:  # Check if the list is empty\n",
    "            print(\"You must enter at least one number.\")\n",
    "            return\n",
    "        \n",
    "        while True:\n",
    "            # Displaying menu options\n",
    "            display_menu()\n",
    "            \n",
    "            # Asking user to select an option\n",
    "            choice = input(\"Select an option (1-6): \")\n",
    "            \n",
    "            if choice == '1':\n",
    "                # Calculate and display sum\n",
    "                result = calculate_sum(numbers)\n",
    "                print(f\"Sum: {result}\")\n",
    "            \n",
    "            elif choice == '2':\n",
    "                # Calculate and display average\n",
    "                result = calculate_average(numbers)\n",
    "                print(f\"Average: {result:.2f}\")  # Format to two decimal places\n",
    "            \n",
    "            elif choice == '3':\n",
    "                # Find and display maximum\n",
    "                result = find_maximum(numbers)\n",
    "                print(f\"Maximum: {result}\")\n",
    "            \n",
    "            elif choice == '4':\n",
    "                # Find and display minimum\n",
    "                result = find_minimum(numbers)\n",
    "                print(f\"Minimum: {result}\")\n",
    "            \n",
    "            elif choice == '5':\n",
    "                # Check even/odd and display results\n",
    "                results = check_even_odd(numbers)\n",
    "                for num, status in results.items():\n",
    "                    print(f\"{num} is {status}.\")\n",
    "            \n",
    "            elif choice == '6':\n",
    "                # Exit the program\n",
    "                print(\"Exiting the program. Goodbye!\")\n",
    "                break\n",
    "            \n",
    "            else:\n",
    "                # Handle invalid input\n",
    "                print(\"Invalid choice. Please select a valid option.\")\n",
    "    \n",
    "    except ValueError:\n",
    "        print(\"Invalid input! Please enter only numbers separated by spaces.\")\n",
    "\n",
    "# Entry point of the program\n",
    "if __name__ == \"__main__\":\n",
    "    main()"
   ]
  },
  {
   "cell_type": "code",
   "execution_count": null,
   "id": "4111b814-9488-4414-8a41-7325a4684609",
   "metadata": {},
   "outputs": [],
   "source": []
  }
 ],
 "metadata": {
  "kernelspec": {
   "display_name": "Python 3 (ipykernel)",
   "language": "python",
   "name": "python3"
  },
  "language_info": {
   "codemirror_mode": {
    "name": "ipython",
    "version": 3
   },
   "file_extension": ".py",
   "mimetype": "text/x-python",
   "name": "python",
   "nbconvert_exporter": "python",
   "pygments_lexer": "ipython3",
   "version": "3.10.7"
  }
 },
 "nbformat": 4,
 "nbformat_minor": 5
}
